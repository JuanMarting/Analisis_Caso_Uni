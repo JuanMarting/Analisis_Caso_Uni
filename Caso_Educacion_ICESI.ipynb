{
 "cells": [
  {
   "cell_type": "markdown",
   "id": "6aa9c5b6",
   "metadata": {},
   "source": [
    "# Caso Educación ICESI\n",
    "\n",
    "Un grupo de directores de programa junto a la coordinación de permanencia y graduación estudiantil, el CREA y el departamento de matemáticas, se unieron para investigar cómo una propuesta de estructura para reflexión docente y acompañamiento en pedagogía puede impactar en el aprendizaje de los estudiantes. Reflexión docente, como su nombre lo indica, consiste en una revisión exhaustiva sobre el sentido, la finalidad y el proceso en el que se desarrolla un curso. Es decir, a grandes rasgos se reflexiona sobre los objetivos de aprendizaje (la utilidad práctica de los saberes) y las actividades y el sistema de evaluación que permiten alcanzarlos. Sin duda, esto implica más horas de dedicación para los profesores (que en su mayoría son hora-cátedra), por tanto, un mayor costo para la universidad.\n",
    "\n",
    "Adicionalmente, es difícil que un profesor tenga la capacidad para reflexionar sobre sus prácticas docentes, por lo que se requiere acompañamiento de expertos en pedagogía. Esto también implica mayores costos para la universidad. La pregunta central es: ¿vale la pena esta inversión en la estructura propuesta para reflexión docente en el departamento de matemáticas?\n",
    "\n",
    "Para realizar el experimento se aprovechó el proceso de selección aleatorio de la matricula en primer semestre. Se trabajará con el curso de Álgebra y funciones, dejando por fuera del experimento a repitentes. Un total de 272 estudiantes nuevos fueron considerados en la muestra.\n",
    "\n",
    "Una intervención (Intervención 1) consiste en acompañarlos desde la planeación de los objetivos del curso y las actividades, al igual que un acompañamiento semanal a lo largo de las 16 semanas de clase. Por su parte, el otro tipo de intervención (Intervención 2) no incluye el acompañamiento a lo largo del semestre (solo la planeación del curso y de las actividades). En ese orden de ideas, la intervención 1 es más costosa que la intervención 2, mientras que la metodología tradicional no representa un costo adicional.\n",
    "\n",
    "Un profesor tuvo la intervención 1 y otro profesor la intervención 2 (cada uno dicta dos cursos) y a otros dos profesores se les pidió dictar sus cursos como tradicionalmente lo han hecho (cada uno dicta dos cursos). Los 4 profesores son hora cátedra y tienen un perfil similar.\n",
    "\n",
    "En el archivo de Excel “Experimento.xlsx” se encuentra la base de datos del experimento que cuenta con las siguientes columnas:\n",
    "\n",
    "    •\tGénero\n",
    "    •\tFacultad\n",
    "    •\tEstrato\n",
    "    •\tPUNT_MAT: Puntaje de matemáticas en las pruebas Saber 11 (0-100).\n",
    "    •\tPUNT_GLOB: Puntaje global en las pruebas Saber 11 (0-500).\n",
    "    •\tNOTA_DEF: La nota definitiva en el curso. (0-5) \n",
    "    \n",
    "    •\tGRUPO: Identifica si el estudiante pertenece a algún grupo de la intervención 1 (Grupo 1), a algún grupo de la intervención 2 (Grupo 2) o algún grupo de los dos profesores con la metodología tradicional.\n",
    "    \n",
    "Ustedes han sido comisionados por el rector para analizar los datos y entregar información relevante que permita tomar la decisión más adecuada. \n",
    "\n",
    "1.\tRealice una completa descripción de todas las variables de la muestra. \n",
    "\n",
    "    a.\tDefinir qué tipo de variable es cada una.\n",
    "    \n",
    "    b.\tUtilizar las herramientas adecuadas para describir cada una de las variables (recuerde: muestre tabla de frecuencia o estadísticas descriptivas, gráfica y análisis)\n",
    "\n",
    "2.\tExplore gráficamente la posible relación entre la intervención y las notas definitivas. Se espera un corto análisis de lo que encuentra exploratoriamente.\n",
    "\n",
    "3.\tUsando pruebas estadísticas, ¿qué puede concluir? ¿Vale la pena la inversión en una metodología de reflexión docente? Tiene pronto una reunión con el rector, ¿qué le recomienda: intervención 1, intervención 2 o seguir de la forma tradicional?. Se requiere que se planteen las hipótesis en todas las pruebas estadísticas que se realicen y se discuta el resultado de la prueba. \n"
   ]
  },
  {
   "cell_type": "code",
   "execution_count": 1,
   "id": "90bcff69",
   "metadata": {},
   "outputs": [],
   "source": [
    "# Procedemos a importar las librerias necesarias\n",
    "import pandas as pd   ## Libreria para manipular y analizar datos\n",
    "import matplotlib.pyplot as plt  ## Libreria para visualizar\n",
    "import seaborn as sns   ## Libreria para visualizar\n",
    "import numpy as np  ## Libreria para operaciones numéricas\n",
    "import matplotlib.ticker as mtick  ## función para formatear en visualizaciones\n",
    "\n",
    "from scipy.stats import skew, kurtosis # coeficiente de adimetria, coeficiente kurtosis\n",
    "from scipy.stats import shapiro ## Prueba normalidad Shapiro-Wilks\n",
    "\n",
    "from scipy.stats import levene ## Prueba homogeneidad de varianzas Levene\n",
    "from scipy.stats import f_oneway ## Prueba ANOVA de una vía\n",
    "import pingouin as pg ## LIbrería funciones estadísticas\n"
   ]
  },
  {
   "cell_type": "code",
   "execution_count": 2,
   "id": "aea2e462",
   "metadata": {},
   "outputs": [
    {
     "data": {
      "text/html": [
       "<div>\n",
       "<style scoped>\n",
       "    .dataframe tbody tr th:only-of-type {\n",
       "        vertical-align: middle;\n",
       "    }\n",
       "\n",
       "    .dataframe tbody tr th {\n",
       "        vertical-align: top;\n",
       "    }\n",
       "\n",
       "    .dataframe thead th {\n",
       "        text-align: right;\n",
       "    }\n",
       "</style>\n",
       "<table border=\"1\" class=\"dataframe\">\n",
       "  <thead>\n",
       "    <tr style=\"text-align: right;\">\n",
       "      <th></th>\n",
       "      <th>Unnamed: 0</th>\n",
       "      <th>Género</th>\n",
       "      <th>Facultad</th>\n",
       "      <th>Estrato</th>\n",
       "      <th>PUNT_MAT</th>\n",
       "      <th>PUNT_GLOB</th>\n",
       "      <th>NOTA_DEF</th>\n",
       "      <th>GRUPO</th>\n",
       "    </tr>\n",
       "  </thead>\n",
       "  <tbody>\n",
       "    <tr>\n",
       "      <th>0</th>\n",
       "      <td>1</td>\n",
       "      <td>M</td>\n",
       "      <td>FCN</td>\n",
       "      <td>2</td>\n",
       "      <td>63</td>\n",
       "      <td>324</td>\n",
       "      <td>2.35</td>\n",
       "      <td>Tradicional</td>\n",
       "    </tr>\n",
       "    <tr>\n",
       "      <th>1</th>\n",
       "      <td>2</td>\n",
       "      <td>M</td>\n",
       "      <td>FING</td>\n",
       "      <td>1</td>\n",
       "      <td>67</td>\n",
       "      <td>353</td>\n",
       "      <td>3.09</td>\n",
       "      <td>Tradicional</td>\n",
       "    </tr>\n",
       "    <tr>\n",
       "      <th>2</th>\n",
       "      <td>3</td>\n",
       "      <td>M</td>\n",
       "      <td>FCN</td>\n",
       "      <td>2</td>\n",
       "      <td>52</td>\n",
       "      <td>306</td>\n",
       "      <td>2.68</td>\n",
       "      <td>Tradicional</td>\n",
       "    </tr>\n",
       "    <tr>\n",
       "      <th>3</th>\n",
       "      <td>4</td>\n",
       "      <td>M</td>\n",
       "      <td>FING</td>\n",
       "      <td>4</td>\n",
       "      <td>58</td>\n",
       "      <td>277</td>\n",
       "      <td>2.77</td>\n",
       "      <td>Tradicional</td>\n",
       "    </tr>\n",
       "    <tr>\n",
       "      <th>4</th>\n",
       "      <td>5</td>\n",
       "      <td>F</td>\n",
       "      <td>FCAE</td>\n",
       "      <td>3</td>\n",
       "      <td>72</td>\n",
       "      <td>372</td>\n",
       "      <td>3.79</td>\n",
       "      <td>Tradicional</td>\n",
       "    </tr>\n",
       "    <tr>\n",
       "      <th>...</th>\n",
       "      <td>...</td>\n",
       "      <td>...</td>\n",
       "      <td>...</td>\n",
       "      <td>...</td>\n",
       "      <td>...</td>\n",
       "      <td>...</td>\n",
       "      <td>...</td>\n",
       "      <td>...</td>\n",
       "    </tr>\n",
       "    <tr>\n",
       "      <th>267</th>\n",
       "      <td>268</td>\n",
       "      <td>M</td>\n",
       "      <td>FING</td>\n",
       "      <td>1</td>\n",
       "      <td>66</td>\n",
       "      <td>337</td>\n",
       "      <td>3.41</td>\n",
       "      <td>Grupo2</td>\n",
       "    </tr>\n",
       "    <tr>\n",
       "      <th>268</th>\n",
       "      <td>269</td>\n",
       "      <td>F</td>\n",
       "      <td>FCN</td>\n",
       "      <td>2</td>\n",
       "      <td>79</td>\n",
       "      <td>381</td>\n",
       "      <td>3.89</td>\n",
       "      <td>Grupo2</td>\n",
       "    </tr>\n",
       "    <tr>\n",
       "      <th>269</th>\n",
       "      <td>270</td>\n",
       "      <td>F</td>\n",
       "      <td>FCN</td>\n",
       "      <td>6</td>\n",
       "      <td>80</td>\n",
       "      <td>362</td>\n",
       "      <td>3.89</td>\n",
       "      <td>Grupo2</td>\n",
       "    </tr>\n",
       "    <tr>\n",
       "      <th>270</th>\n",
       "      <td>271</td>\n",
       "      <td>M</td>\n",
       "      <td>FING</td>\n",
       "      <td>3</td>\n",
       "      <td>79</td>\n",
       "      <td>389</td>\n",
       "      <td>2.74</td>\n",
       "      <td>Grupo2</td>\n",
       "    </tr>\n",
       "    <tr>\n",
       "      <th>271</th>\n",
       "      <td>272</td>\n",
       "      <td>M</td>\n",
       "      <td>FCAE</td>\n",
       "      <td>4</td>\n",
       "      <td>66</td>\n",
       "      <td>312</td>\n",
       "      <td>3.19</td>\n",
       "      <td>Grupo2</td>\n",
       "    </tr>\n",
       "  </tbody>\n",
       "</table>\n",
       "<p>272 rows × 8 columns</p>\n",
       "</div>"
      ],
      "text/plain": [
       "     Unnamed: 0 Género Facultad  Estrato  PUNT_MAT  PUNT_GLOB  NOTA_DEF  \\\n",
       "0             1      M      FCN        2        63        324      2.35   \n",
       "1             2      M     FING        1        67        353      3.09   \n",
       "2             3      M      FCN        2        52        306      2.68   \n",
       "3             4      M     FING        4        58        277      2.77   \n",
       "4             5      F     FCAE        3        72        372      3.79   \n",
       "..          ...    ...      ...      ...       ...        ...       ...   \n",
       "267         268      M     FING        1        66        337      3.41   \n",
       "268         269      F      FCN        2        79        381      3.89   \n",
       "269         270      F      FCN        6        80        362      3.89   \n",
       "270         271      M     FING        3        79        389      2.74   \n",
       "271         272      M     FCAE        4        66        312      3.19   \n",
       "\n",
       "           GRUPO  \n",
       "0    Tradicional  \n",
       "1    Tradicional  \n",
       "2    Tradicional  \n",
       "3    Tradicional  \n",
       "4    Tradicional  \n",
       "..           ...  \n",
       "267       Grupo2  \n",
       "268       Grupo2  \n",
       "269       Grupo2  \n",
       "270       Grupo2  \n",
       "271       Grupo2  \n",
       "\n",
       "[272 rows x 8 columns]"
      ]
     },
     "execution_count": 2,
     "metadata": {},
     "output_type": "execute_result"
    }
   ],
   "source": [
    "# Cargamos los datos.\n",
    "\n",
    "data = pd.read_excel('Experimento.xlsx')\n",
    "data"
   ]
  },
  {
   "cell_type": "code",
   "execution_count": 3,
   "id": "bbf741eb",
   "metadata": {},
   "outputs": [
    {
     "name": "stdout",
     "output_type": "stream",
     "text": [
      "<class 'pandas.core.frame.DataFrame'>\n",
      "RangeIndex: 272 entries, 0 to 271\n",
      "Data columns (total 8 columns):\n",
      " #   Column      Non-Null Count  Dtype  \n",
      "---  ------      --------------  -----  \n",
      " 0   Unnamed: 0  272 non-null    int64  \n",
      " 1   Género      272 non-null    object \n",
      " 2   Facultad    272 non-null    object \n",
      " 3   Estrato     272 non-null    int64  \n",
      " 4   PUNT_MAT    272 non-null    int64  \n",
      " 5   PUNT_GLOB   272 non-null    int64  \n",
      " 6   NOTA_DEF    272 non-null    float64\n",
      " 7   GRUPO       272 non-null    object \n",
      "dtypes: float64(1), int64(4), object(3)\n",
      "memory usage: 17.1+ KB\n"
     ]
    }
   ],
   "source": [
    "# Obtengo la información del tipo de variable por columna.\n",
    "data.info()"
   ]
  },
  {
   "cell_type": "markdown",
   "id": "210f2c7a",
   "metadata": {},
   "source": [
    "Para dar respuesta al punto 1, procedemos a determinar los verdaderos tipos de variables(cuantitativas/cualitativas)"
   ]
  },
  {
   "cell_type": "code",
   "execution_count": 4,
   "id": "4e632f44",
   "metadata": {},
   "outputs": [
    {
     "data": {
      "text/html": [
       "<div>\n",
       "<style scoped>\n",
       "    .dataframe tbody tr th:only-of-type {\n",
       "        vertical-align: middle;\n",
       "    }\n",
       "\n",
       "    .dataframe tbody tr th {\n",
       "        vertical-align: top;\n",
       "    }\n",
       "\n",
       "    .dataframe thead th {\n",
       "        text-align: right;\n",
       "    }\n",
       "</style>\n",
       "<table border=\"1\" class=\"dataframe\">\n",
       "  <thead>\n",
       "    <tr style=\"text-align: right;\">\n",
       "      <th></th>\n",
       "      <th>Columna_Variable</th>\n",
       "      <th>Tipo de variable</th>\n",
       "    </tr>\n",
       "  </thead>\n",
       "  <tbody>\n",
       "    <tr>\n",
       "      <th>0</th>\n",
       "      <td>Genero</td>\n",
       "      <td>Cualitativa Nominal</td>\n",
       "    </tr>\n",
       "    <tr>\n",
       "      <th>1</th>\n",
       "      <td>Facultad</td>\n",
       "      <td>Cualitativa Nominal</td>\n",
       "    </tr>\n",
       "    <tr>\n",
       "      <th>2</th>\n",
       "      <td>Estrato</td>\n",
       "      <td>Cualitativa Ordinal</td>\n",
       "    </tr>\n",
       "    <tr>\n",
       "      <th>3</th>\n",
       "      <td>PUNT_MAT</td>\n",
       "      <td>Cuantitativa Discreta</td>\n",
       "    </tr>\n",
       "    <tr>\n",
       "      <th>4</th>\n",
       "      <td>PUNT_GLOB</td>\n",
       "      <td>Cuantitativa Discreta</td>\n",
       "    </tr>\n",
       "    <tr>\n",
       "      <th>5</th>\n",
       "      <td>NOTA_DEF</td>\n",
       "      <td>Cuantitativa Continua</td>\n",
       "    </tr>\n",
       "    <tr>\n",
       "      <th>6</th>\n",
       "      <td>GRUPO</td>\n",
       "      <td>Cualitativa Nominal</td>\n",
       "    </tr>\n",
       "  </tbody>\n",
       "</table>\n",
       "</div>"
      ],
      "text/plain": [
       "  Columna_Variable       Tipo de variable\n",
       "0           Genero    Cualitativa Nominal\n",
       "1         Facultad    Cualitativa Nominal\n",
       "2          Estrato    Cualitativa Ordinal\n",
       "3         PUNT_MAT  Cuantitativa Discreta\n",
       "4        PUNT_GLOB  Cuantitativa Discreta\n",
       "5         NOTA_DEF  Cuantitativa Continua\n",
       "6            GRUPO   Cualitativa Nominal "
      ]
     },
     "execution_count": 4,
     "metadata": {},
     "output_type": "execute_result"
    }
   ],
   "source": [
    "datos = {'Columna_Variable': ['Genero','Facultad','Estrato','PUNT_MAT','PUNT_GLOB','NOTA_DEF','GRUPO'],\n",
    "        'Tipo de variable': ['Cualitativa Nominal','Cualitativa Nominal', 'Cualitativa Ordinal',\n",
    "                            'Cuantitativa Discreta','Cuantitativa Discreta','Cuantitativa Continua',\n",
    "                            'Cualitativa Nominal ']}\n",
    "\n",
    "df = pd.DataFrame(datos)\n",
    "\n",
    "df"
   ]
  },
  {
   "cell_type": "code",
   "execution_count": 5,
   "id": "5252f705",
   "metadata": {},
   "outputs": [
    {
     "data": {
      "text/html": [
       "<div>\n",
       "<style scoped>\n",
       "    .dataframe tbody tr th:only-of-type {\n",
       "        vertical-align: middle;\n",
       "    }\n",
       "\n",
       "    .dataframe tbody tr th {\n",
       "        vertical-align: top;\n",
       "    }\n",
       "\n",
       "    .dataframe thead th {\n",
       "        text-align: right;\n",
       "    }\n",
       "</style>\n",
       "<table border=\"1\" class=\"dataframe\">\n",
       "  <thead>\n",
       "    <tr style=\"text-align: right;\">\n",
       "      <th></th>\n",
       "      <th>Unnamed: 0</th>\n",
       "      <th>Género</th>\n",
       "      <th>Facultad</th>\n",
       "      <th>Estrato</th>\n",
       "      <th>PUNT_MAT</th>\n",
       "      <th>PUNT_GLOB</th>\n",
       "      <th>NOTA_DEF</th>\n",
       "      <th>GRUPO</th>\n",
       "    </tr>\n",
       "  </thead>\n",
       "  <tbody>\n",
       "    <tr>\n",
       "      <th>0</th>\n",
       "      <td>1</td>\n",
       "      <td>M</td>\n",
       "      <td>FCN</td>\n",
       "      <td>2</td>\n",
       "      <td>63</td>\n",
       "      <td>324</td>\n",
       "      <td>2.35</td>\n",
       "      <td>Tradicional</td>\n",
       "    </tr>\n",
       "    <tr>\n",
       "      <th>1</th>\n",
       "      <td>2</td>\n",
       "      <td>M</td>\n",
       "      <td>FING</td>\n",
       "      <td>1</td>\n",
       "      <td>67</td>\n",
       "      <td>353</td>\n",
       "      <td>3.09</td>\n",
       "      <td>Tradicional</td>\n",
       "    </tr>\n",
       "    <tr>\n",
       "      <th>2</th>\n",
       "      <td>3</td>\n",
       "      <td>M</td>\n",
       "      <td>FCN</td>\n",
       "      <td>2</td>\n",
       "      <td>52</td>\n",
       "      <td>306</td>\n",
       "      <td>2.68</td>\n",
       "      <td>Tradicional</td>\n",
       "    </tr>\n",
       "    <tr>\n",
       "      <th>3</th>\n",
       "      <td>4</td>\n",
       "      <td>M</td>\n",
       "      <td>FING</td>\n",
       "      <td>4</td>\n",
       "      <td>58</td>\n",
       "      <td>277</td>\n",
       "      <td>2.77</td>\n",
       "      <td>Tradicional</td>\n",
       "    </tr>\n",
       "    <tr>\n",
       "      <th>4</th>\n",
       "      <td>5</td>\n",
       "      <td>F</td>\n",
       "      <td>FCAE</td>\n",
       "      <td>3</td>\n",
       "      <td>72</td>\n",
       "      <td>372</td>\n",
       "      <td>3.79</td>\n",
       "      <td>Tradicional</td>\n",
       "    </tr>\n",
       "    <tr>\n",
       "      <th>...</th>\n",
       "      <td>...</td>\n",
       "      <td>...</td>\n",
       "      <td>...</td>\n",
       "      <td>...</td>\n",
       "      <td>...</td>\n",
       "      <td>...</td>\n",
       "      <td>...</td>\n",
       "      <td>...</td>\n",
       "    </tr>\n",
       "    <tr>\n",
       "      <th>267</th>\n",
       "      <td>268</td>\n",
       "      <td>M</td>\n",
       "      <td>FING</td>\n",
       "      <td>1</td>\n",
       "      <td>66</td>\n",
       "      <td>337</td>\n",
       "      <td>3.41</td>\n",
       "      <td>Grupo2</td>\n",
       "    </tr>\n",
       "    <tr>\n",
       "      <th>268</th>\n",
       "      <td>269</td>\n",
       "      <td>F</td>\n",
       "      <td>FCN</td>\n",
       "      <td>2</td>\n",
       "      <td>79</td>\n",
       "      <td>381</td>\n",
       "      <td>3.89</td>\n",
       "      <td>Grupo2</td>\n",
       "    </tr>\n",
       "    <tr>\n",
       "      <th>269</th>\n",
       "      <td>270</td>\n",
       "      <td>F</td>\n",
       "      <td>FCN</td>\n",
       "      <td>6</td>\n",
       "      <td>80</td>\n",
       "      <td>362</td>\n",
       "      <td>3.89</td>\n",
       "      <td>Grupo2</td>\n",
       "    </tr>\n",
       "    <tr>\n",
       "      <th>270</th>\n",
       "      <td>271</td>\n",
       "      <td>M</td>\n",
       "      <td>FING</td>\n",
       "      <td>3</td>\n",
       "      <td>79</td>\n",
       "      <td>389</td>\n",
       "      <td>2.74</td>\n",
       "      <td>Grupo2</td>\n",
       "    </tr>\n",
       "    <tr>\n",
       "      <th>271</th>\n",
       "      <td>272</td>\n",
       "      <td>M</td>\n",
       "      <td>FCAE</td>\n",
       "      <td>4</td>\n",
       "      <td>66</td>\n",
       "      <td>312</td>\n",
       "      <td>3.19</td>\n",
       "      <td>Grupo2</td>\n",
       "    </tr>\n",
       "  </tbody>\n",
       "</table>\n",
       "<p>272 rows × 8 columns</p>\n",
       "</div>"
      ],
      "text/plain": [
       "     Unnamed: 0 Género Facultad Estrato  PUNT_MAT  PUNT_GLOB  NOTA_DEF  \\\n",
       "0             1      M      FCN       2        63        324      2.35   \n",
       "1             2      M     FING       1        67        353      3.09   \n",
       "2             3      M      FCN       2        52        306      2.68   \n",
       "3             4      M     FING       4        58        277      2.77   \n",
       "4             5      F     FCAE       3        72        372      3.79   \n",
       "..          ...    ...      ...     ...       ...        ...       ...   \n",
       "267         268      M     FING       1        66        337      3.41   \n",
       "268         269      F      FCN       2        79        381      3.89   \n",
       "269         270      F      FCN       6        80        362      3.89   \n",
       "270         271      M     FING       3        79        389      2.74   \n",
       "271         272      M     FCAE       4        66        312      3.19   \n",
       "\n",
       "           GRUPO  \n",
       "0    Tradicional  \n",
       "1    Tradicional  \n",
       "2    Tradicional  \n",
       "3    Tradicional  \n",
       "4    Tradicional  \n",
       "..           ...  \n",
       "267       Grupo2  \n",
       "268       Grupo2  \n",
       "269       Grupo2  \n",
       "270       Grupo2  \n",
       "271       Grupo2  \n",
       "\n",
       "[272 rows x 8 columns]"
      ]
     },
     "execution_count": 5,
     "metadata": {},
     "output_type": "execute_result"
    }
   ],
   "source": [
    "# ahora procedemos a fijar el orden en las variables ordinales, para continuar con el analisis de cada\n",
    "#columna\n",
    " \n",
    "data['Estrato'] = pd.Categorical(data['Estrato'],\n",
    "                                categories=[1,2,3,4,5,6],\n",
    "                                ordered=True)\n",
    "\n",
    "data"
   ]
  },
  {
   "cell_type": "markdown",
   "id": "95e2b429",
   "metadata": {},
   "source": [
    "Procedemos a realizar las respectivas descripciones para cada variable, emplearemos las siguientes funciones para llevar a cabo los distintos análisis de cada variable:\n"
   ]
  },
  {
   "cell_type": "code",
   "execution_count": 6,
   "id": "a827e267",
   "metadata": {},
   "outputs": [],
   "source": [
    "\"\"\"\n",
    "Esta función devuelve una tabla con un analisis descriptivo completo de la columna suministrada\n",
    "Args:\n",
    "    columnas (variable cuantitativa)\n",
    "    \n",
    "\"\"\"\n",
    "def tabla_descriptivas(columnas):\n",
    "    tabla_descriptivas=pd.DataFrame(columnas.describe())\n",
    "    tabla_descriptivas.loc['coef. variation']=columnas.std()/columnas.mean() # Coeficiente variación\n",
    "    tabla_descriptivas.loc['skew']=skew(columnas) # coeficiente de asimetria\n",
    "    tabla_descriptivas.loc['kurtosis']=kurtosis(columnas) # coeficiente de curtosis.\n",
    "    return tabla_descriptivas\n",
    "\n",
    "\n",
    "## Función para construir tablas de frecuencias\n",
    "def tabla_freq(columna):\n",
    "    x=pd.crosstab(index=columna,columns=\"count\").reset_index()\n",
    "    x=x.rename(columns={'count':'Frec. Abs.'})\n",
    "    y=pd.crosstab(index=columna,columns=\"count\", normalize='columns').reset_index()\n",
    "    y=y.rename(columns={'count':'Frec. Rel.'})\n",
    "    tabla=x.merge(y,how='left')\n",
    "    tabla.rename_axis(None, axis=1)\n",
    "    return tabla"
   ]
  },
  {
   "cell_type": "markdown",
   "id": "0842cfc6",
   "metadata": {},
   "source": [
    "Ahora, procedemos a analizar los datos para cada variable.\n",
    "\n",
    "Columna 'Género'"
   ]
  },
  {
   "cell_type": "code",
   "execution_count": 7,
   "id": "9bfe1f08",
   "metadata": {},
   "outputs": [
    {
     "data": {
      "text/html": [
       "<div>\n",
       "<style scoped>\n",
       "    .dataframe tbody tr th:only-of-type {\n",
       "        vertical-align: middle;\n",
       "    }\n",
       "\n",
       "    .dataframe tbody tr th {\n",
       "        vertical-align: top;\n",
       "    }\n",
       "\n",
       "    .dataframe thead th {\n",
       "        text-align: right;\n",
       "    }\n",
       "</style>\n",
       "<table border=\"1\" class=\"dataframe\">\n",
       "  <thead>\n",
       "    <tr style=\"text-align: right;\">\n",
       "      <th>col_0</th>\n",
       "      <th>Género</th>\n",
       "      <th>Frec. Abs.</th>\n",
       "      <th>Frec. Rel.</th>\n",
       "    </tr>\n",
       "  </thead>\n",
       "  <tbody>\n",
       "    <tr>\n",
       "      <th>0</th>\n",
       "      <td>F</td>\n",
       "      <td>152</td>\n",
       "      <td>0.558824</td>\n",
       "    </tr>\n",
       "    <tr>\n",
       "      <th>1</th>\n",
       "      <td>M</td>\n",
       "      <td>120</td>\n",
       "      <td>0.441176</td>\n",
       "    </tr>\n",
       "  </tbody>\n",
       "</table>\n",
       "</div>"
      ],
      "text/plain": [
       "col_0 Género  Frec. Abs.  Frec. Rel.\n",
       "0          F         152    0.558824\n",
       "1          M         120    0.441176"
      ]
     },
     "execution_count": 7,
     "metadata": {},
     "output_type": "execute_result"
    }
   ],
   "source": [
    "tabla_genero = tabla_freq(data['Género'])\n",
    "tabla_genero"
   ]
  },
  {
   "cell_type": "code",
   "execution_count": 8,
   "id": "98e51d22",
   "metadata": {},
   "outputs": [
    {
     "data": {
      "image/png": "[encoded data removed]",
      "text/plain": [
       "<Figure size 800x600 with 1 Axes>"
      ]
     },
     "metadata": {},
     "output_type": "display_data"
    }
   ],
   "source": [
    "plt.figure(figsize=(8,6)) \n",
    "plt.pie(tabla_genero[\"Frec. Rel.\"], labels=tabla_genero[\"Género\"],autopct='%1.1f%%',startangle=90)\n",
    "plt.title(\"Proporción estudiantes por género\")\n",
    "plt.show()"
   ]
  },
  {
   "cell_type": "markdown",
   "id": "0155915a",
   "metadata": {},
   "source": [
    "**Conclusión:** Partiendo de la muestra, es posible afirmar que hay una mayor presencia de estudiantes  mujeres en el primer semestre de la universidad ICESI."
   ]
  },
  {
   "cell_type": "markdown",
   "id": "c5b38b2a",
   "metadata": {},
   "source": [
    "Para variable 'Facultad'"
   ]
  },
  {
   "cell_type": "code",
   "execution_count": 9,
   "id": "3f764fc7",
   "metadata": {},
   "outputs": [
    {
     "data": {
      "text/html": [
       "<div>\n",
       "<style scoped>\n",
       "    .dataframe tbody tr th:only-of-type {\n",
       "        vertical-align: middle;\n",
       "    }\n",
       "\n",
       "    .dataframe tbody tr th {\n",
       "        vertical-align: top;\n",
       "    }\n",
       "\n",
       "    .dataframe thead th {\n",
       "        text-align: right;\n",
       "    }\n",
       "</style>\n",
       "<table border=\"1\" class=\"dataframe\">\n",
       "  <thead>\n",
       "    <tr style=\"text-align: right;\">\n",
       "      <th>col_0</th>\n",
       "      <th>Facultad</th>\n",
       "      <th>Frec. Abs.</th>\n",
       "      <th>Frec. Rel.</th>\n",
       "    </tr>\n",
       "  </thead>\n",
       "  <tbody>\n",
       "    <tr>\n",
       "      <th>0</th>\n",
       "      <td>FCAE</td>\n",
       "      <td>128</td>\n",
       "      <td>0.470588</td>\n",
       "    </tr>\n",
       "    <tr>\n",
       "      <th>1</th>\n",
       "      <td>FCN</td>\n",
       "      <td>54</td>\n",
       "      <td>0.198529</td>\n",
       "    </tr>\n",
       "    <tr>\n",
       "      <th>2</th>\n",
       "      <td>FING</td>\n",
       "      <td>90</td>\n",
       "      <td>0.330882</td>\n",
       "    </tr>\n",
       "  </tbody>\n",
       "</table>\n",
       "</div>"
      ],
      "text/plain": [
       "col_0 Facultad  Frec. Abs.  Frec. Rel.\n",
       "0         FCAE         128    0.470588\n",
       "1          FCN          54    0.198529\n",
       "2         FING          90    0.330882"
      ]
     },
     "execution_count": 9,
     "metadata": {},
     "output_type": "execute_result"
    }
   ],
   "source": [
    "tabla_facu = tabla_freq(data['Facultad'])\n",
    "tabla_facu"
   ]
  },
  {
   "cell_type": "code",
   "execution_count": 10,
   "id": "1858dd60",
   "metadata": {},
   "outputs": [
    {
     "data": {
      "image/png": "[encoded data removed]",
      "text/plain": [
       "<Figure size 640x480 with 1 Axes>"
      ]
     },
     "metadata": {},
     "output_type": "display_data"
    }
   ],
   "source": [
    "# Titulo general\n",
    "plt.suptitle('Proporción de estudiantes según por facultades universidad ICESI')\n",
    "\n",
    "# datos grafico de barras\n",
    "frec_aprob=sns.barplot(x=tabla_facu['Facultad'],y=tabla_facu[\"Frec. Rel.\"]*100)\n",
    "frec_aprob.bar_label(frec_aprob.containers[0], label_type='edge',fmt='%.2f%%') # visualizar porcentajes por barra\n",
    "frec_aprob.yaxis.set_major_formatter(mtick.PercentFormatter(xmax=100)) # Visualizar eje y en mi escala porcentajes\n",
    "frec_aprob.set(ylim=(0, 60))\n",
    "\n",
    "plt.show() "
   ]
  },
  {
   "cell_type": "markdown",
   "id": "e66c26ee",
   "metadata": {},
   "source": [
    "**Conclusión:** Del analísis de la muestra, es posible afirmar que, por cada 4 estudiantes entrevistados, almenos 2 pertenecen a la facultad FCAE."
   ]
  },
  {
   "cell_type": "markdown",
   "id": "19bd7fdd",
   "metadata": {},
   "source": [
    "Para la variable 'Estrato'"
   ]
  },
  {
   "cell_type": "code",
   "execution_count": 11,
   "id": "1ea56e22",
   "metadata": {},
   "outputs": [
    {
     "data": {
      "text/html": [
       "<div>\n",
       "<style scoped>\n",
       "    .dataframe tbody tr th:only-of-type {\n",
       "        vertical-align: middle;\n",
       "    }\n",
       "\n",
       "    .dataframe tbody tr th {\n",
       "        vertical-align: top;\n",
       "    }\n",
       "\n",
       "    .dataframe thead th {\n",
       "        text-align: right;\n",
       "    }\n",
       "</style>\n",
       "<table border=\"1\" class=\"dataframe\">\n",
       "  <thead>\n",
       "    <tr style=\"text-align: right;\">\n",
       "      <th>col_0</th>\n",
       "      <th>Estrato</th>\n",
       "      <th>Frec. Abs.</th>\n",
       "      <th>Frec. Rel.</th>\n",
       "    </tr>\n",
       "  </thead>\n",
       "  <tbody>\n",
       "    <tr>\n",
       "      <th>0</th>\n",
       "      <td>1</td>\n",
       "      <td>58</td>\n",
       "      <td>0.213235</td>\n",
       "    </tr>\n",
       "    <tr>\n",
       "      <th>1</th>\n",
       "      <td>2</td>\n",
       "      <td>91</td>\n",
       "      <td>0.334559</td>\n",
       "    </tr>\n",
       "    <tr>\n",
       "      <th>2</th>\n",
       "      <td>3</td>\n",
       "      <td>42</td>\n",
       "      <td>0.154412</td>\n",
       "    </tr>\n",
       "    <tr>\n",
       "      <th>3</th>\n",
       "      <td>4</td>\n",
       "      <td>29</td>\n",
       "      <td>0.106618</td>\n",
       "    </tr>\n",
       "    <tr>\n",
       "      <th>4</th>\n",
       "      <td>5</td>\n",
       "      <td>28</td>\n",
       "      <td>0.102941</td>\n",
       "    </tr>\n",
       "    <tr>\n",
       "      <th>5</th>\n",
       "      <td>6</td>\n",
       "      <td>24</td>\n",
       "      <td>0.088235</td>\n",
       "    </tr>\n",
       "  </tbody>\n",
       "</table>\n",
       "</div>"
      ],
      "text/plain": [
       "col_0 Estrato  Frec. Abs.  Frec. Rel.\n",
       "0           1          58    0.213235\n",
       "1           2          91    0.334559\n",
       "2           3          42    0.154412\n",
       "3           4          29    0.106618\n",
       "4           5          28    0.102941\n",
       "5           6          24    0.088235"
      ]
     },
     "execution_count": 11,
     "metadata": {},
     "output_type": "execute_result"
    }
   ],
   "source": [
    "tabla_estrato = tabla_freq(data['Estrato'])\n",
    "tabla_estrato"
   ]
  },
  {
   "cell_type": "code",
   "execution_count": 12,
   "id": "b6146c7d",
   "metadata": {},
   "outputs": [
    {
     "data": {
      "image/png": "[encoded data removed]",
      "text/plain": [
       "<Figure size 640x480 with 1 Axes>"
      ]
     },
     "metadata": {},
     "output_type": "display_data"
    }
   ],
   "source": [
    "# Titulo general\n",
    "plt.suptitle('Proporción de estudiantes por estratos en universidad ICESI')\n",
    "\n",
    "# datos grafico de barras\n",
    "frec_estrato=sns.barplot(x=tabla_estrato['Estrato'],y=tabla_estrato[\"Frec. Rel.\"]*100)\n",
    "frec_estrato.bar_label(frec_estrato.containers[0], label_type='edge',fmt='%.2f%%') # visualizar porcentajes por barra\n",
    "frec_estrato.yaxis.set_major_formatter(mtick.PercentFormatter(xmax=100)) # Visualizar eje y en mi escala porcentajes\n",
    "frec_estrato.set(ylim=(0, 40))\n",
    "\n",
    "plt.show() "
   ]
  },
  {
   "cell_type": "markdown",
   "id": "051b53ea",
   "metadata": {},
   "source": [
    "**Conclusión:** De los datos obtenidos y visualizados, se puede afirmar que por cada 10 estudiantes entrevistados, almenos 6 estudiantes pertenecen a estratos bajos(1,2 y 3), reflejando asi que la proporcion estudiantil es mayor en los estudiantes de estos estratos."
   ]
  },
  {
   "cell_type": "markdown",
   "id": "bcffa1c7",
   "metadata": {},
   "source": [
    "Variable 'PUNT_MAT', cuantitativa discreta:"
   ]
  },
  {
   "cell_type": "code",
   "execution_count": 13,
   "id": "d81d713d",
   "metadata": {},
   "outputs": [
    {
     "data": {
      "text/html": [
       "<div>\n",
       "<style scoped>\n",
       "    .dataframe tbody tr th:only-of-type {\n",
       "        vertical-align: middle;\n",
       "    }\n",
       "\n",
       "    .dataframe tbody tr th {\n",
       "        vertical-align: top;\n",
       "    }\n",
       "\n",
       "    .dataframe thead th {\n",
       "        text-align: right;\n",
       "    }\n",
       "</style>\n",
       "<table border=\"1\" class=\"dataframe\">\n",
       "  <thead>\n",
       "    <tr style=\"text-align: right;\">\n",
       "      <th></th>\n",
       "      <th>PUNT_MAT</th>\n",
       "    </tr>\n",
       "  </thead>\n",
       "  <tbody>\n",
       "    <tr>\n",
       "      <th>count</th>\n",
       "      <td>272.000000</td>\n",
       "    </tr>\n",
       "    <tr>\n",
       "      <th>mean</th>\n",
       "      <td>68.808824</td>\n",
       "    </tr>\n",
       "    <tr>\n",
       "      <th>std</th>\n",
       "      <td>10.006282</td>\n",
       "    </tr>\n",
       "    <tr>\n",
       "      <th>min</th>\n",
       "      <td>39.000000</td>\n",
       "    </tr>\n",
       "    <tr>\n",
       "      <th>25%</th>\n",
       "      <td>62.000000</td>\n",
       "    </tr>\n",
       "    <tr>\n",
       "      <th>50%</th>\n",
       "      <td>69.000000</td>\n",
       "    </tr>\n",
       "    <tr>\n",
       "      <th>75%</th>\n",
       "      <td>76.000000</td>\n",
       "    </tr>\n",
       "    <tr>\n",
       "      <th>max</th>\n",
       "      <td>95.000000</td>\n",
       "    </tr>\n",
       "    <tr>\n",
       "      <th>coef. variation</th>\n",
       "      <td>0.145421</td>\n",
       "    </tr>\n",
       "    <tr>\n",
       "      <th>skew</th>\n",
       "      <td>-0.232233</td>\n",
       "    </tr>\n",
       "    <tr>\n",
       "      <th>kurtosis</th>\n",
       "      <td>0.132099</td>\n",
       "    </tr>\n",
       "  </tbody>\n",
       "</table>\n",
       "</div>"
      ],
      "text/plain": [
       "                   PUNT_MAT\n",
       "count            272.000000\n",
       "mean              68.808824\n",
       "std               10.006282\n",
       "min               39.000000\n",
       "25%               62.000000\n",
       "50%               69.000000\n",
       "75%               76.000000\n",
       "max               95.000000\n",
       "coef. variation    0.145421\n",
       "skew              -0.232233\n",
       "kurtosis           0.132099"
      ]
     },
     "execution_count": 13,
     "metadata": {},
     "output_type": "execute_result"
    }
   ],
   "source": [
    "tabla_mat = tabla_descriptivas(data['PUNT_MAT'])\n",
    "tabla_mat"
   ]
  },
  {
   "cell_type": "code",
   "execution_count": 14,
   "id": "9da3b421",
   "metadata": {},
   "outputs": [
    {
     "data": {
      "image/png": "[encoded data removed]",
      "text/plain": [
       "<Figure size 1000x500 with 1 Axes>"
      ]
     },
     "metadata": {},
     "output_type": "display_data"
    }
   ],
   "source": [
    "plt.figure(figsize=(10,5)) \n",
    "hist_mat=sns.histplot(x=data['PUNT_MAT'],kde=True,color=\"steelblue\") ## crea el histograma\n",
    "hist_mat.set_xlabel('Puntaje') ## cambia el título del eje x\n",
    "# hist_G3.set_xlim(0, 22)                     ## cambia los límites del eje x\n",
    "# hist_G3.set_xticks(range(0,22,2))             ## cambia los valores del eje x\n",
    "hist_mat.set_title('Distribución Puntaje de Matemáticas Obtenido Prueba Saber Estudiantes ICESI', color='r')\n",
    "plt.show()"
   ]
  },
  {
   "cell_type": "markdown",
   "id": "a4eb2207",
   "metadata": {},
   "source": [
    "**Conclusión:** El centro de la distribución se encuentra en 69 puntos, con el 50% de los datos agrupados alrededor de este centro entre 62 y 76 puntos. De acuerdo a la escala propuesta por vargas(2007) la dispersión es baja(14%). Finalmente, es posible afirmar que la distribución es relativamente simétrica(leve sesgo hacia la izquierda) y semejante a una distribución normal."
   ]
  },
  {
   "cell_type": "markdown",
   "id": "9ff855ff",
   "metadata": {},
   "source": [
    "Analisis variable 'PUNT_GLOB', cuantitativa discreta:"
   ]
  },
  {
   "cell_type": "code",
   "execution_count": 15,
   "id": "00f026fd",
   "metadata": {},
   "outputs": [
    {
     "data": {
      "text/html": [
       "<div>\n",
       "<style scoped>\n",
       "    .dataframe tbody tr th:only-of-type {\n",
       "        vertical-align: middle;\n",
       "    }\n",
       "\n",
       "    .dataframe tbody tr th {\n",
       "        vertical-align: top;\n",
       "    }\n",
       "\n",
       "    .dataframe thead th {\n",
       "        text-align: right;\n",
       "    }\n",
       "</style>\n",
       "<table border=\"1\" class=\"dataframe\">\n",
       "  <thead>\n",
       "    <tr style=\"text-align: right;\">\n",
       "      <th></th>\n",
       "      <th>PUNT_GLOB</th>\n",
       "    </tr>\n",
       "  </thead>\n",
       "  <tbody>\n",
       "    <tr>\n",
       "      <th>count</th>\n",
       "      <td>272.000000</td>\n",
       "    </tr>\n",
       "    <tr>\n",
       "      <th>mean</th>\n",
       "      <td>339.264706</td>\n",
       "    </tr>\n",
       "    <tr>\n",
       "      <th>std</th>\n",
       "      <td>35.383140</td>\n",
       "    </tr>\n",
       "    <tr>\n",
       "      <th>min</th>\n",
       "      <td>219.000000</td>\n",
       "    </tr>\n",
       "    <tr>\n",
       "      <th>25%</th>\n",
       "      <td>316.750000</td>\n",
       "    </tr>\n",
       "    <tr>\n",
       "      <th>50%</th>\n",
       "      <td>341.000000</td>\n",
       "    </tr>\n",
       "    <tr>\n",
       "      <th>75%</th>\n",
       "      <td>362.000000</td>\n",
       "    </tr>\n",
       "    <tr>\n",
       "      <th>max</th>\n",
       "      <td>423.000000</td>\n",
       "    </tr>\n",
       "    <tr>\n",
       "      <th>coef. variation</th>\n",
       "      <td>0.104294</td>\n",
       "    </tr>\n",
       "    <tr>\n",
       "      <th>skew</th>\n",
       "      <td>-0.339606</td>\n",
       "    </tr>\n",
       "    <tr>\n",
       "      <th>kurtosis</th>\n",
       "      <td>0.489295</td>\n",
       "    </tr>\n",
       "  </tbody>\n",
       "</table>\n",
       "</div>"
      ],
      "text/plain": [
       "                  PUNT_GLOB\n",
       "count            272.000000\n",
       "mean             339.264706\n",
       "std               35.383140\n",
       "min              219.000000\n",
       "25%              316.750000\n",
       "50%              341.000000\n",
       "75%              362.000000\n",
       "max              423.000000\n",
       "coef. variation    0.104294\n",
       "skew              -0.339606\n",
       "kurtosis           0.489295"
      ]
     },
     "execution_count": 15,
     "metadata": {},
     "output_type": "execute_result"
    }
   ],
   "source": [
    "tabla_glob = tabla_descriptivas(data['PUNT_GLOB'])\n",
    "tabla_glob"
   ]
  },
  {
   "cell_type": "code",
   "execution_count": 16,
   "id": "2fcf9fde",
   "metadata": {},
   "outputs": [
    {
     "data": {
      "image/png": "[encoded data removed]",
      "text/plain": [
       "<Figure size 1000x500 with 1 Axes>"
      ]
     },
     "metadata": {},
     "output_type": "display_data"
    }
   ],
   "source": [
    "plt.figure(figsize=(10,5)) \n",
    "hist_global=sns.histplot(x=data['PUNT_GLOB'],kde=True,color=\"steelblue\") ## crea el histograma\n",
    "hist_global.set_xlabel('Puntaje') ## cambia el título del eje x\n",
    "# hist_G3.set_xlim(0, 22)                     ## cambia los límites del eje x\n",
    "# hist_G3.set_xticks(range(0,22,2))             ## cambia los valores del eje x\n",
    "hist_global.set_title('Distribución Puntaje Global Obtenido Prueba Saber Estudiantes ICESI', color='r')\n",
    "plt.show()"
   ]
  },
  {
   "cell_type": "markdown",
   "id": "12a991ef",
   "metadata": {},
   "source": [
    "**Conclusión:** Centro de distribución esta ubicado en 341 puntos, con el 50% de los datos agrupados alrededor de este centro entre 316 y 362 puntos. Presenta un CV del 10% reflejando asi la dispersion baja de los datos(según escala de vargas(2007)). Es posible afirmar que la distribución presenta una ligera asimetría negativa( leve sesgo hacia la izquierda), presenta un leve pico debido a la concentración de datos alrrededor de la media."
   ]
  },
  {
   "cell_type": "markdown",
   "id": "89b0259d",
   "metadata": {},
   "source": [
    "Para la columna de la variable 'NOTA_DEF', cuantitativa continua:"
   ]
  },
  {
   "cell_type": "code",
   "execution_count": 17,
   "id": "a54e146c",
   "metadata": {},
   "outputs": [
    {
     "data": {
      "text/html": [
       "<div>\n",
       "<style scoped>\n",
       "    .dataframe tbody tr th:only-of-type {\n",
       "        vertical-align: middle;\n",
       "    }\n",
       "\n",
       "    .dataframe tbody tr th {\n",
       "        vertical-align: top;\n",
       "    }\n",
       "\n",
       "    .dataframe thead th {\n",
       "        text-align: right;\n",
       "    }\n",
       "</style>\n",
       "<table border=\"1\" class=\"dataframe\">\n",
       "  <thead>\n",
       "    <tr style=\"text-align: right;\">\n",
       "      <th></th>\n",
       "      <th>NOTA_DEF</th>\n",
       "    </tr>\n",
       "  </thead>\n",
       "  <tbody>\n",
       "    <tr>\n",
       "      <th>count</th>\n",
       "      <td>272.000000</td>\n",
       "    </tr>\n",
       "    <tr>\n",
       "      <th>mean</th>\n",
       "      <td>3.415846</td>\n",
       "    </tr>\n",
       "    <tr>\n",
       "      <th>std</th>\n",
       "      <td>0.511079</td>\n",
       "    </tr>\n",
       "    <tr>\n",
       "      <th>min</th>\n",
       "      <td>2.290000</td>\n",
       "    </tr>\n",
       "    <tr>\n",
       "      <th>25%</th>\n",
       "      <td>3.090000</td>\n",
       "    </tr>\n",
       "    <tr>\n",
       "      <th>50%</th>\n",
       "      <td>3.440000</td>\n",
       "    </tr>\n",
       "    <tr>\n",
       "      <th>75%</th>\n",
       "      <td>3.812500</td>\n",
       "    </tr>\n",
       "    <tr>\n",
       "      <th>max</th>\n",
       "      <td>4.780000</td>\n",
       "    </tr>\n",
       "    <tr>\n",
       "      <th>coef. variation</th>\n",
       "      <td>0.149620</td>\n",
       "    </tr>\n",
       "    <tr>\n",
       "      <th>skew</th>\n",
       "      <td>-0.130085</td>\n",
       "    </tr>\n",
       "    <tr>\n",
       "      <th>kurtosis</th>\n",
       "      <td>-0.551380</td>\n",
       "    </tr>\n",
       "  </tbody>\n",
       "</table>\n",
       "</div>"
      ],
      "text/plain": [
       "                   NOTA_DEF\n",
       "count            272.000000\n",
       "mean               3.415846\n",
       "std                0.511079\n",
       "min                2.290000\n",
       "25%                3.090000\n",
       "50%                3.440000\n",
       "75%                3.812500\n",
       "max                4.780000\n",
       "coef. variation    0.149620\n",
       "skew              -0.130085\n",
       "kurtosis          -0.551380"
      ]
     },
     "execution_count": 17,
     "metadata": {},
     "output_type": "execute_result"
    }
   ],
   "source": [
    "tabla_def = tabla_descriptivas(data['NOTA_DEF'])\n",
    "tabla_def"
   ]
  },
  {
   "cell_type": "code",
   "execution_count": 18,
   "id": "be2fb1b3",
   "metadata": {},
   "outputs": [
    {
     "data": {
      "image/png": "[encoded data removed]",
      "text/plain": [
       "<Figure size 1000x500 with 1 Axes>"
      ]
     },
     "metadata": {},
     "output_type": "display_data"
    }
   ],
   "source": [
    "plt.figure(figsize=(10,5)) \n",
    "hist_def=sns.histplot(x=data['NOTA_DEF'],kde=True,color=\"steelblue\") ## crea el histograma\n",
    "hist_def.set_xlabel('Nota') ## cambia el título del eje x\n",
    "# hist_G3.set_xlim(0, 22)                     ## cambia los límites del eje x\n",
    "# hist_G3.set_xticks(range(0,22,2))             ## cambia los valores del eje x\n",
    "hist_def.set_title('Distribución Notas Obtenidas en el Curso', color='r')\n",
    "plt.show()"
   ]
  },
  {
   "cell_type": "markdown",
   "id": "6d8ba3fc",
   "metadata": {},
   "source": [
    "**Conclusión:** Se evidencia que en el centro de distribución, las notas obtenidas en el curso fueron de 3.44 para el 50% de los datos agrupados, alrededor del centro de este mismo, se aprecia que la mayor cantidad de datos se agrupan entre 3.09 y 3.81. Los datos presentan una dispersión baja(de acuerdo a la escala propuesta por Vargas(2007)). Finalmente, es posible afirmar que la distribución es ligeramente asimetrica(leve sesgo hacia la izquierda) y achatada( colas cortas y pocos datos en los extremos)."
   ]
  },
  {
   "cell_type": "code",
   "execution_count": 19,
   "id": "ec33f904",
   "metadata": {},
   "outputs": [
    {
     "data": {
      "text/html": [
       "<div>\n",
       "<style scoped>\n",
       "    .dataframe tbody tr th:only-of-type {\n",
       "        vertical-align: middle;\n",
       "    }\n",
       "\n",
       "    .dataframe tbody tr th {\n",
       "        vertical-align: top;\n",
       "    }\n",
       "\n",
       "    .dataframe thead th {\n",
       "        text-align: right;\n",
       "    }\n",
       "</style>\n",
       "<table border=\"1\" class=\"dataframe\">\n",
       "  <thead>\n",
       "    <tr style=\"text-align: right;\">\n",
       "      <th>col_0</th>\n",
       "      <th>GRUPO</th>\n",
       "      <th>Frec. Abs.</th>\n",
       "      <th>Frec. Rel.</th>\n",
       "    </tr>\n",
       "  </thead>\n",
       "  <tbody>\n",
       "    <tr>\n",
       "      <th>0</th>\n",
       "      <td>Grupo1</td>\n",
       "      <td>71</td>\n",
       "      <td>0.261029</td>\n",
       "    </tr>\n",
       "    <tr>\n",
       "      <th>1</th>\n",
       "      <td>Grupo2</td>\n",
       "      <td>69</td>\n",
       "      <td>0.253676</td>\n",
       "    </tr>\n",
       "    <tr>\n",
       "      <th>2</th>\n",
       "      <td>Tradicional</td>\n",
       "      <td>132</td>\n",
       "      <td>0.485294</td>\n",
       "    </tr>\n",
       "  </tbody>\n",
       "</table>\n",
       "</div>"
      ],
      "text/plain": [
       "col_0        GRUPO  Frec. Abs.  Frec. Rel.\n",
       "0           Grupo1          71    0.261029\n",
       "1           Grupo2          69    0.253676\n",
       "2      Tradicional         132    0.485294"
      ]
     },
     "execution_count": 19,
     "metadata": {},
     "output_type": "execute_result"
    }
   ],
   "source": [
    "tabla_grupo = tabla_freq(data['GRUPO'])\n",
    "tabla_grupo"
   ]
  },
  {
   "cell_type": "code",
   "execution_count": 20,
   "id": "1ca39223",
   "metadata": {},
   "outputs": [
    {
     "data": {
      "image/png": "[encoded data removed]",
      "text/plain": [
       "<Figure size 1000x500 with 1 Axes>"
      ]
     },
     "metadata": {},
     "output_type": "display_data"
    }
   ],
   "source": [
    "plt.figure(figsize=(10,5)) \n",
    "plt.pie(tabla_grupo[\"Frec. Rel.\"], labels=tabla_grupo[\"GRUPO\"],autopct='%1.1f%%',startangle=90)\n",
    "plt.title(\"Proporción de Estudiantes por Grupos\")\n",
    "plt.show()"
   ]
  },
  {
   "cell_type": "markdown",
   "id": "fe006384",
   "metadata": {},
   "source": [
    "**Conclusión:** Por cada 4 estudiantes entrevistados, almenos 2 pertenecen a los grupos de educación tradicional. Esto refleja que la mayor cantidad de poblacion estudiantil recibe este metodo de educación."
   ]
  },
  {
   "cell_type": "markdown",
   "id": "b457c944",
   "metadata": {},
   "source": [
    "Para el interrogante 2, procedemos a realizar la exploración entre la intervención(Variable 'GRUPO' - Cualitativa) y las notas definitivas(Variable 'NOTA_DEF'- Cuantitativa), se tiene:"
   ]
  },
  {
   "cell_type": "code",
   "execution_count": 21,
   "id": "f817c330",
   "metadata": {},
   "outputs": [
    {
     "data": {
      "text/html": [
       "<div>\n",
       "<style scoped>\n",
       "    .dataframe tbody tr th:only-of-type {\n",
       "        vertical-align: middle;\n",
       "    }\n",
       "\n",
       "    .dataframe tbody tr th {\n",
       "        vertical-align: top;\n",
       "    }\n",
       "\n",
       "    .dataframe thead th {\n",
       "        text-align: right;\n",
       "    }\n",
       "</style>\n",
       "<table border=\"1\" class=\"dataframe\">\n",
       "  <thead>\n",
       "    <tr style=\"text-align: right;\">\n",
       "      <th></th>\n",
       "      <th>count</th>\n",
       "      <th>mean</th>\n",
       "      <th>std</th>\n",
       "      <th>min</th>\n",
       "      <th>25%</th>\n",
       "      <th>50%</th>\n",
       "      <th>75%</th>\n",
       "      <th>max</th>\n",
       "    </tr>\n",
       "    <tr>\n",
       "      <th>GRUPO</th>\n",
       "      <th></th>\n",
       "      <th></th>\n",
       "      <th></th>\n",
       "      <th></th>\n",
       "      <th></th>\n",
       "      <th></th>\n",
       "      <th></th>\n",
       "      <th></th>\n",
       "    </tr>\n",
       "  </thead>\n",
       "  <tbody>\n",
       "    <tr>\n",
       "      <th>Grupo1</th>\n",
       "      <td>71.0</td>\n",
       "      <td>3.549859</td>\n",
       "      <td>0.500210</td>\n",
       "      <td>2.35</td>\n",
       "      <td>3.260</td>\n",
       "      <td>3.610</td>\n",
       "      <td>3.875</td>\n",
       "      <td>4.52</td>\n",
       "    </tr>\n",
       "    <tr>\n",
       "      <th>Grupo2</th>\n",
       "      <td>69.0</td>\n",
       "      <td>3.499565</td>\n",
       "      <td>0.500257</td>\n",
       "      <td>2.29</td>\n",
       "      <td>3.210</td>\n",
       "      <td>3.510</td>\n",
       "      <td>3.870</td>\n",
       "      <td>4.78</td>\n",
       "    </tr>\n",
       "    <tr>\n",
       "      <th>Tradicional</th>\n",
       "      <td>132.0</td>\n",
       "      <td>3.300000</td>\n",
       "      <td>0.499797</td>\n",
       "      <td>2.30</td>\n",
       "      <td>2.955</td>\n",
       "      <td>3.265</td>\n",
       "      <td>3.755</td>\n",
       "      <td>4.36</td>\n",
       "    </tr>\n",
       "  </tbody>\n",
       "</table>\n",
       "</div>"
      ],
      "text/plain": [
       "             count      mean       std   min    25%    50%    75%   max\n",
       "GRUPO                                                                  \n",
       "Grupo1        71.0  3.549859  0.500210  2.35  3.260  3.610  3.875  4.52\n",
       "Grupo2        69.0  3.499565  0.500257  2.29  3.210  3.510  3.870  4.78\n",
       "Tradicional  132.0  3.300000  0.499797  2.30  2.955  3.265  3.755  4.36"
      ]
     },
     "execution_count": 21,
     "metadata": {},
     "output_type": "execute_result"
    }
   ],
   "source": [
    "intervencion_notas = data.groupby('GRUPO')['NOTA_DEF'].describe()\n",
    "intervencion_notas"
   ]
  },
  {
   "cell_type": "code",
   "execution_count": 22,
   "id": "ff64d8f3",
   "metadata": {},
   "outputs": [
    {
     "data": {
      "image/png": "[encoded data removed]",
      "text/plain": [
       "<Figure size 800x600 with 1 Axes>"
      ]
     },
     "metadata": {},
     "output_type": "display_data"
    }
   ],
   "source": [
    "plt.figure(figsize=(8,6)) \n",
    "boxplot_inter_nota=sns.boxplot(x=data['GRUPO'],y=data['NOTA_DEF'],color=\"lightblue\",showmeans=True) ## crea el boxplot\n",
    "boxplot_inter_nota.set_xlabel('') ## cambia el título del eje x\n",
    "boxplot_inter_nota.set_ylabel('Nota definitiva') ## cambia el título del eje y\n",
    "boxplot_inter_nota.set_title('Distribución de las notas de los estudiantes segun el tipo de intervención', color='r')\n",
    "plt.grid()\n",
    "plt.show()  "
   ]
  },
  {
   "cell_type": "markdown",
   "id": "f2ee5ab4",
   "metadata": {},
   "source": [
    "**Conclusión:** De la exploración grafica, se puede afirmar que según el tipo de intervención,Grupo1 y Grupo2, las notas definitivas obtenidas van a presentar unos resultados positivos evidenciados en sus respectivas medias en comparacion con la metodología Tradicional.\n",
    "* Grupo1: 3.55\n",
    "* Grupo2: 3.5\n",
    "* Tradicional: 3.3\n",
    "\n",
    "Asi mismo, el Grupo1 en comparación del Grupo 2, la diferencia es leve, sus notas no divergen de manera notoria.\n"
   ]
  },
  {
   "cell_type": "markdown",
   "id": "6603762b",
   "metadata": {},
   "source": [
    "Procedemos a realizar las distintas pruebas estadisticas para validar lo anterior y poder dar respuesta al punto 3."
   ]
  },
  {
   "cell_type": "code",
   "execution_count": 23,
   "id": "b1d8af2e",
   "metadata": {},
   "outputs": [
    {
     "name": "stdout",
     "output_type": "stream",
     "text": [
      "Población: Tradicional\n",
      "Estadístico SW= 0.9811262488365173, Valor-p= 0.06354282051324844\n",
      "Población: Grupo1\n",
      "Estadístico SW= 0.9728129506111145, Valor-p= 0.12597548961639404\n",
      "Población: Grupo2\n",
      "Estadístico SW= 0.9880001544952393, Valor-p= 0.7529125809669495\n"
     ]
    }
   ],
   "source": [
    "# Validación de los supuestos\n",
    "## Normalidad\n",
    "\n",
    "print(\"Población: Tradicional\")\n",
    "Estad,vp = shapiro(data[data[\"GRUPO\"]==\"Tradicional\"][\"NOTA_DEF\"])\n",
    "print(f'Estadístico SW= {Estad}, Valor-p= {vp}')\n",
    "print(\"Población: Grupo1\")\n",
    "Estad,vp = shapiro(data[data[\"GRUPO\"]==\"Grupo1\"][\"NOTA_DEF\"])\n",
    "print(f'Estadístico SW= {Estad}, Valor-p= {vp}')\n",
    "print(\"Población: Grupo2\")\n",
    "Estad,vp = shapiro(data[data[\"GRUPO\"]==\"Grupo2\"][\"NOTA_DEF\"])\n",
    "print(f'Estadístico SW= {Estad}, Valor-p= {vp}')"
   ]
  },
  {
   "cell_type": "code",
   "execution_count": 24,
   "id": "ecf264b1",
   "metadata": {},
   "outputs": [
    {
     "name": "stdout",
     "output_type": "stream",
     "text": [
      "Estadístico W= 0.20888940467847075, Valor-p= 0.8116164835091431\n"
     ]
    }
   ],
   "source": [
    "# Homogeneidad de varianzas\n",
    "\n",
    "Estad,vp=levene(data[data[\"GRUPO\"]==\"Tradicional\"][\"NOTA_DEF\"],\n",
    "               data[data[\"GRUPO\"]==\"Grupo1\"][\"NOTA_DEF\"],\n",
    "               data[data[\"GRUPO\"]==\"Grupo2\"][\"NOTA_DEF\"],\n",
    "               center='mean')\n",
    "print(f'Estadístico W= {Estad}, Valor-p= {vp}')"
   ]
  },
  {
   "cell_type": "markdown",
   "id": "d559c707",
   "metadata": {},
   "source": [
    "Se cumplen ambos supuestos. Por tanto, podemos hacer la prueba ANOVA. Recordemos las hipótesis:\n",
    "- Ho: la media en todas las poblaciones es igual\n",
    "- Ha: la media de al menos una población es diferente"
   ]
  },
  {
   "cell_type": "code",
   "execution_count": 25,
   "id": "74426de5",
   "metadata": {},
   "outputs": [
    {
     "name": "stdout",
     "output_type": "stream",
     "text": [
      "Estadístico F= 7.059853566705065, Valor-p= 0.0010273138866285362\n"
     ]
    }
   ],
   "source": [
    "# Prueba ANOVA (libreria stats)\n",
    "\n",
    "Estad,vp=f_oneway(data[data[\"GRUPO\"]==\"Tradicional\"][\"NOTA_DEF\"],\n",
    "               data[data[\"GRUPO\"]==\"Grupo1\"][\"NOTA_DEF\"],\n",
    "               data[data[\"GRUPO\"]==\"Grupo2\"][\"NOTA_DEF\"])\n",
    "print(f'Estadístico F= {Estad}, Valor-p= {vp}')"
   ]
  },
  {
   "cell_type": "markdown",
   "id": "9604d15c",
   "metadata": {},
   "source": [
    "**Conclusión:** Del 'Valor-p', rechazo la hipótesis nula; con un 95% de confianza (incluso 99%) podemos afirmar que al menos una de las medias es diferente. Pero entonces, ¿cuáles son diferentes?"
   ]
  },
  {
   "cell_type": "code",
   "execution_count": 26,
   "id": "3099f310",
   "metadata": {},
   "outputs": [
    {
     "data": {
      "text/html": [
       "<div>\n",
       "<style scoped>\n",
       "    .dataframe tbody tr th:only-of-type {\n",
       "        vertical-align: middle;\n",
       "    }\n",
       "\n",
       "    .dataframe tbody tr th {\n",
       "        vertical-align: top;\n",
       "    }\n",
       "\n",
       "    .dataframe thead th {\n",
       "        text-align: right;\n",
       "    }\n",
       "</style>\n",
       "<table border=\"1\" class=\"dataframe\">\n",
       "  <thead>\n",
       "    <tr style=\"text-align: right;\">\n",
       "      <th></th>\n",
       "      <th>A</th>\n",
       "      <th>B</th>\n",
       "      <th>mean(A)</th>\n",
       "      <th>mean(B)</th>\n",
       "      <th>diff</th>\n",
       "      <th>se</th>\n",
       "      <th>T</th>\n",
       "      <th>p-tukey</th>\n",
       "      <th>hedges</th>\n",
       "    </tr>\n",
       "  </thead>\n",
       "  <tbody>\n",
       "    <tr>\n",
       "      <th>0</th>\n",
       "      <td>Grupo1</td>\n",
       "      <td>Grupo2</td>\n",
       "      <td>3.549859</td>\n",
       "      <td>3.499565</td>\n",
       "      <td>0.050294</td>\n",
       "      <td>0.084528</td>\n",
       "      <td>0.595000</td>\n",
       "      <td>0.822919</td>\n",
       "      <td>0.099994</td>\n",
       "    </tr>\n",
       "    <tr>\n",
       "      <th>1</th>\n",
       "      <td>Grupo1</td>\n",
       "      <td>Tradicional</td>\n",
       "      <td>3.549859</td>\n",
       "      <td>3.300000</td>\n",
       "      <td>0.249859</td>\n",
       "      <td>0.073590</td>\n",
       "      <td>3.395278</td>\n",
       "      <td>0.002270</td>\n",
       "      <td>0.497910</td>\n",
       "    </tr>\n",
       "    <tr>\n",
       "      <th>2</th>\n",
       "      <td>Grupo2</td>\n",
       "      <td>Tradicional</td>\n",
       "      <td>3.499565</td>\n",
       "      <td>3.300000</td>\n",
       "      <td>0.199565</td>\n",
       "      <td>0.074280</td>\n",
       "      <td>2.686645</td>\n",
       "      <td>0.020872</td>\n",
       "      <td>0.397661</td>\n",
       "    </tr>\n",
       "  </tbody>\n",
       "</table>\n",
       "</div>"
      ],
      "text/plain": [
       "        A            B   mean(A)   mean(B)      diff        se         T  \\\n",
       "0  Grupo1       Grupo2  3.549859  3.499565  0.050294  0.084528  0.595000   \n",
       "1  Grupo1  Tradicional  3.549859  3.300000  0.249859  0.073590  3.395278   \n",
       "2  Grupo2  Tradicional  3.499565  3.300000  0.199565  0.074280  2.686645   \n",
       "\n",
       "    p-tukey    hedges  \n",
       "0  0.822919  0.099994  \n",
       "1  0.002270  0.497910  \n",
       "2  0.020872  0.397661  "
      ]
     },
     "execution_count": 26,
     "metadata": {},
     "output_type": "execute_result"
    }
   ],
   "source": [
    "# PRUEBA HSD TUKEY:\n",
    "\n",
    "pg.pairwise_tukey(data=data, dv='NOTA_DEF', between='GRUPO')"
   ]
  },
  {
   "cell_type": "markdown",
   "id": "b74e67e4",
   "metadata": {},
   "source": [
    "**Conclusión:** Del valor \"p-tukey\", con un 95%(Incluso 99%) podemos afirmar que existe diferencia en la nota definitiva del curso entre las intervenciones Grupo1 y Tradicional y, Grupo2 y Tradicional, pero no entre Grupo1 y Grupo2."
   ]
  },
  {
   "cell_type": "markdown",
   "id": "cd75507c",
   "metadata": {},
   "source": [
    "Con los análisis realizados anteriormente y resaltando la siguiente información:\n",
    "- Intervención-Grupo1: Presenta el costo mas alto.\n",
    "- Intervención-Grupo2: Menor costo en comparación con Intervención-Grupo1.\n",
    "- Metodología Tradicional: No representa un costo adicional.\n",
    "\n",
    "De lo anterior, la mejor recomendación para el rector es invertir en la metodología de reflexión docente(Grupo1 y Grupo2) porque se obtienen mejores resultados reflejados en las notas definitivas en comparación con la metodología tradicional, en cuestión de costos. Apreciando que no existe **\"diferencia\"** en la nota definitiva del Grupo1 y Grupo2, pero si en los costos que presentan cada intervención, la mejor **RECOMENDACIÓN** seria implementar la intervención probada en el **Grupo2**."
   ]
  },
  {
   "cell_type": "code",
   "execution_count": null,
   "id": "518be584",
   "metadata": {},
   "outputs": [],
   "source": []
  }
 ],
 "metadata": {
  "kernelspec": {
   "display_name": "Python 3 (ipykernel)",
   "language": "python",
   "name": "python3"
  },
  "language_info": {
   "codemirror_mode": {
    "name": "ipython",
    "version": 3
   },
   "file_extension": ".py",
   "mimetype": "text/x-python",
   "name": "python",
   "nbconvert_exporter": "python",
   "pygments_lexer": "ipython3",
   "version": "3.11.5"
  }
 },
 "nbformat": 4,
 "nbformat_minor": 5
}
